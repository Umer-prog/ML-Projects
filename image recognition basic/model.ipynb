{
 "cells": [
  {
   "cell_type": "markdown",
   "id": "17554a7b",
   "metadata": {},
   "source": [
    "# 📓 MNIST Digits - Classification Models\n",
    "\n",
    "# 1. Introduction\n",
    "In this notebook, we use the MNIST dataset (28x28 grayscale digits) to train and evaluate\n",
    "different machine learning models. \n",
    "Our focus is on comparing traditional ML algorithms on vision data:\n",
    "- KNN (simple similarity-based method)\n",
    "- SVM (powerful for classification in high dimensions)\n",
    "- PCA + Logistic Regression (using dimensionality reduction before classification)\n",
    "\n",
    "## Key questions:\n",
    "- How well do classical ML methods perform on MNIST?\n",
    "- Does PCA help with training speed and accuracy?\n",
    "- What are the limitations of ML for vision tasks?\n",
    "\n",
    "\n"
   ]
  },
  {
   "cell_type": "code",
   "execution_count": 1,
   "id": "02f4fa22",
   "metadata": {},
   "outputs": [
    {
     "name": "stdout",
     "output_type": "stream",
     "text": [
      "Train shape: (56000, 784)\n",
      "Test shape: (14000, 784)\n"
     ]
    }
   ],
   "source": [
    "# ## 2. Load Libraries & Dataset\n",
    "import numpy as np\n",
    "import matplotlib.pyplot as plt\n",
    "from sklearn.datasets import fetch_openml\n",
    "from sklearn.model_selection import train_test_split\n",
    "from sklearn.preprocessing import StandardScaler\n",
    "from sklearn.decomposition import PCA\n",
    "from sklearn.neighbors import KNeighborsClassifier\n",
    "from sklearn.svm import SVC\n",
    "from sklearn.linear_model import LogisticRegression\n",
    "from sklearn.metrics import classification_report, confusion_matrix, accuracy_score\n",
    "import seaborn as sns\n",
    "\n",
    "# Load MNIST\n",
    "mnist = fetch_openml('mnist_784', version=1, as_frame=False)\n",
    "X, y = mnist[\"data\"], mnist[\"target\"].astype(int)\n",
    "\n",
    "# Train-test split\n",
    "X_train, X_test, y_train, y_test = train_test_split(X, y, test_size=0.2, random_state=42)\n",
    "\n",
    "print(\"Train shape:\", X_train.shape)\n",
    "print(\"Test shape:\", X_test.shape)\n"
   ]
  },
  {
   "cell_type": "code",
   "execution_count": 2,
   "id": "e41cb849",
   "metadata": {},
   "outputs": [
    {
     "data": {
      "image/png": "[encoded data removed]",
      "text/plain": [
       "<Figure size 1000x300 with 5 Axes>"
      ]
     },
     "metadata": {},
     "output_type": "display_data"
    }
   ],
   "source": [
    "# ## 3. Data Preview\n",
    "# Show some random images from MNIST\n",
    "\n",
    "fig, axes = plt.subplots(1, 5, figsize=(10, 3))\n",
    "for i, ax in enumerate(axes):\n",
    "    idx = np.random.randint(0, len(X_train))\n",
    "    ax.imshow(X_train[idx].reshape(28, 28), cmap=\"gray\")\n",
    "    ax.set_title(f\"Label: {y_train[idx]}\")\n",
    "    ax.axis(\"off\")\n",
    "plt.show()\n"
   ]
  },
  {
   "cell_type": "code",
   "execution_count": 3,
   "id": "6c108446",
   "metadata": {},
   "outputs": [],
   "source": [
    "# ## 4. Preprocessing\n",
    "# Scale the data (important for SVM & Logistic Regression)\n",
    "\n",
    "scaler = StandardScaler()\n",
    "X_train_scaled = scaler.fit_transform(X_train)\n",
    "X_test_scaled = scaler.transform(X_test)\n"
   ]
  },
  {
   "cell_type": "code",
   "execution_count": 4,
   "id": "f4c99c99",
   "metadata": {},
   "outputs": [
    {
     "name": "stdout",
     "output_type": "stream",
     "text": [
      "KNN Accuracy: 0.9465\n",
      "              precision    recall  f1-score   support\n",
      "\n",
      "           0       0.96      0.98      0.97      1343\n",
      "           1       0.95      0.99      0.97      1600\n",
      "           2       0.95      0.94      0.94      1380\n",
      "           3       0.93      0.95      0.94      1433\n",
      "           4       0.95      0.94      0.94      1295\n",
      "           5       0.95      0.94      0.94      1273\n",
      "           6       0.97      0.97      0.97      1396\n",
      "           7       0.94      0.93      0.93      1503\n",
      "           8       0.97      0.90      0.93      1357\n",
      "           9       0.90      0.92      0.91      1420\n",
      "\n",
      "    accuracy                           0.95     14000\n",
      "   macro avg       0.95      0.95      0.95     14000\n",
      "weighted avg       0.95      0.95      0.95     14000\n",
      "\n"
     ]
    }
   ],
   "source": [
    "# ## 5. KNN Model\n",
    "knn = KNeighborsClassifier(n_neighbors=3)\n",
    "knn.fit(X_train_scaled, y_train)\n",
    "y_pred_knn = knn.predict(X_test_scaled)\n",
    "\n",
    "print(\"KNN Accuracy:\", accuracy_score(y_test, y_pred_knn))\n",
    "print(classification_report(y_test, y_pred_knn))\n"
   ]
  },
  {
   "cell_type": "code",
   "execution_count": 5,
   "id": "6a2afce0",
   "metadata": {},
   "outputs": [
    {
     "name": "stdout",
     "output_type": "stream",
     "text": [
      "SVM Accuracy: 0.9305\n",
      "              precision    recall  f1-score   support\n",
      "\n",
      "           0       0.96      0.98      0.97       189\n",
      "           1       0.95      0.96      0.96       216\n",
      "           2       0.84      0.95      0.89       190\n",
      "           3       0.93      0.88      0.90       230\n",
      "           4       0.93      0.94      0.93       158\n",
      "           5       0.91      0.95      0.93       200\n",
      "           6       0.97      0.94      0.96       205\n",
      "           7       0.93      0.93      0.93       204\n",
      "           8       0.93      0.90      0.91       200\n",
      "           9       0.95      0.89      0.92       208\n",
      "\n",
      "    accuracy                           0.93      2000\n",
      "   macro avg       0.93      0.93      0.93      2000\n",
      "weighted avg       0.93      0.93      0.93      2000\n",
      "\n"
     ]
    }
   ],
   "source": [
    "# ## 6. SVM Model\n",
    "svm = SVC(kernel=\"rbf\", gamma=\"scale\")\n",
    "svm.fit(X_train_scaled[:5000], y_train[:5000])  # train on subset for speed\n",
    "y_pred_svm = svm.predict(X_test_scaled[:2000])  # test subset\n",
    "\n",
    "print(\"SVM Accuracy:\", accuracy_score(y_test[:2000], y_pred_svm))\n",
    "print(classification_report(y_test[:2000], y_pred_svm))\n"
   ]
  },
  {
   "cell_type": "code",
   "execution_count": null,
   "id": "1e626f1b",
   "metadata": {},
   "outputs": [
    {
     "name": "stdout",
     "output_type": "stream",
     "text": [
      "PCA + Logistic Regression Accuracy: 0.9222142857142858\n",
      "              precision    recall  f1-score   support\n",
      "\n",
      "           0       0.96      0.97      0.97      1343\n",
      "           1       0.95      0.97      0.96      1600\n",
      "           2       0.92      0.90      0.91      1380\n",
      "           3       0.90      0.90      0.90      1433\n",
      "           4       0.92      0.92      0.92      1295\n",
      "           5       0.88      0.88      0.88      1273\n",
      "           6       0.95      0.96      0.95      1396\n",
      "           7       0.93      0.94      0.93      1503\n",
      "           8       0.89      0.87      0.88      1357\n",
      "           9       0.90      0.90      0.90      1420\n",
      "\n",
      "    accuracy                           0.92     14000\n",
      "   macro avg       0.92      0.92      0.92     14000\n",
      "weighted avg       0.92      0.92      0.92     14000\n",
      "\n"
     ]
    }
   ],
   "source": [
    "# ## 7. PCA + Logistic Regression\n",
    "pca = PCA(n_components=200)  # reduce from 784 → 200 dimensions\n",
    "X_train_pca = pca.fit_transform(X_train_scaled)\n",
    "X_test_pca = pca.transform(X_test_scaled)\n",
    "\n",
    "log_reg = LogisticRegression(max_iter=1000)\n",
    "log_reg.fit(X_train_pca, y_train)\n",
    "y_pred_pca_lr = log_reg.predict(X_test_pca)\n",
    "\n",
    "print(\"PCA + Logistic Regression Accuracy:\", accuracy_score(y_test, y_pred_pca_lr))\n",
    "print(classification_report(y_test, y_pred_pca_lr))\n"
   ]
  },
  {
   "cell_type": "code",
   "execution_count": 22,
   "id": "3feeea16",
   "metadata": {},
   "outputs": [
    {
     "data": {
      "image/png": "[encoded data removed]",
      "text/plain": [
       "<Figure size 1800x500 with 6 Axes>"
      ]
     },
     "metadata": {},
     "output_type": "display_data"
    }
   ],
   "source": [
    "# ## 8. Confusion Matrices\n",
    "\n",
    "fig, axes = plt.subplots(1, 3, figsize=(18, 5))\n",
    "\n",
    "# KNN\n",
    "sns.heatmap(confusion_matrix(y_test, y_pred_knn), annot=False, cmap=\"Blues\", ax=axes[0])\n",
    "axes[0].set_title(\"KNN\")\n",
    "\n",
    "# SVM\n",
    "sns.heatmap(confusion_matrix(y_test[:2000], y_pred_svm), annot=False, cmap=\"Greens\", ax=axes[1])\n",
    "axes[1].set_title(\"SVM (subset)\")\n",
    "\n",
    "# PCA + LR\n",
    "sns.heatmap(confusion_matrix(y_test, y_pred_pca_lr), annot=False, cmap=\"Oranges\", ax=axes[2])\n",
    "axes[2].set_title(\"PCA + Logistic Regression\")\n",
    "\n",
    "plt.show()\n"
   ]
  },
  {
   "cell_type": "code",
   "execution_count": 23,
   "id": "e63f0af1",
   "metadata": {},
   "outputs": [
    {
     "name": "stdout",
     "output_type": "stream",
     "text": [
      "📊 Accuracy Comparison\n",
      "KNN: 0.9465\n",
      "SVM (subset): 0.9305\n",
      "PCA + Logistic Regression: 0.9222\n"
     ]
    }
   ],
   "source": [
    "# ## 9. Summary & Insights\n",
    "# We'll compare accuracy scores\n",
    "\n",
    "acc_knn = accuracy_score(y_test, y_pred_knn)\n",
    "acc_svm = accuracy_score(y_test[:2000], y_pred_svm)\n",
    "acc_pca_lr = accuracy_score(y_test, y_pred_pca_lr)\n",
    "\n",
    "print(\"📊 Accuracy Comparison\")\n",
    "print(f\"KNN: {acc_knn:.4f}\")\n",
    "print(f\"SVM (subset): {acc_svm:.4f}\")\n",
    "print(f\"PCA + Logistic Regression: {acc_pca_lr:.4f}\")\n"
   ]
  }
 ],
 "metadata": {
  "kernelspec": {
   "display_name": ".venv (3.12.1)",
   "language": "python",
   "name": "python3"
  },
  "language_info": {
   "codemirror_mode": {
    "name": "ipython",
    "version": 3
   },
   "file_extension": ".py",
   "mimetype": "text/x-python",
   "name": "python",
   "nbconvert_exporter": "python",
   "pygments_lexer": "ipython3",
   "version": "3.12.1"
  }
 },
 "nbformat": 4,
 "nbformat_minor": 5
}
